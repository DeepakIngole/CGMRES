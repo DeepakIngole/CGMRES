{
 "cells": [
  {
   "cell_type": "markdown",
   "metadata": {},
   "source": [
    "# Automatic Code Generation for Nonlinear Model Predictive Control (NMPC)"
   ]
  },
  {
   "cell_type": "markdown",
   "metadata": {},
   "source": [
    "## Import modules"
   ]
  },
  {
   "cell_type": "code",
   "execution_count": null,
   "metadata": {},
   "outputs": [],
   "source": [
    "from sympy import *\n",
    "from codegen_modules import basic_symbolic_func as symfunc\n",
    "from codegen_modules import generate_cpp_codes as gencpp\n",
    "init_printing()"
   ]
  },
  {
   "cell_type": "markdown",
   "metadata": {},
   "source": [
    "## Set dimx, dimu, dimc\n",
    "dimx: dimension of the state  \n",
    "dimu: dimension of the control input  \n",
    "dimc: dimension of the constraints"
   ]
  },
  {
   "cell_type": "code",
   "execution_count": null,
   "metadata": {},
   "outputs": [],
   "source": [
    "dimx = 4\n",
    "dimu = 2\n",
    "dimc = 0"
   ]
  },
  {
   "cell_type": "markdown",
   "metadata": {},
   "source": [
    "## Generate t, x, u, and lmd, necessary variables for the formulation, and basic functions\n",
    "t: time parameter  \n",
    "x: state vector  \n",
    "u: control input vector  \n",
    "lmd: Lagrange multiplier vector for the state equation"
   ]
  },
  {
   "cell_type": "code",
   "execution_count": null,
   "metadata": {},
   "outputs": [],
   "source": [
    "t, x, u, lmd = symfunc.generateBasicVars(dimx, dimu, dimc)"
   ]
  },
  {
   "cell_type": "markdown",
   "metadata": {},
   "source": [
    "## Define user variables used in the state function here\n",
    "Define a scalar variable whose name is \"var\" as  \n",
    "`var = Symbol('var') `\n",
    "\n",
    "Define scalar variables whose names are \"var\\_1\", \"var\\_2\", ..., \"var\\_n\" as  \n",
    "`var_1, var_2, ..., var_n = symbols('var_1, var_2, ..., var_n')`\n",
    "\n",
    "Define a vector whose name is \"vec\" and dimension is dim_vec as  \n",
    "`vec = symbols(f'vec[0:{dim_vec}]')`"
   ]
  },
  {
   "cell_type": "code",
   "execution_count": null,
   "metadata": {},
   "outputs": [],
   "source": [
    "# Define user variables used in the state function here\n",
    "m1, m2, l1, l2, d1, d2, J1, J2, g = symbols('m1, m2, l1, l2, d1, d2, J1, J2, g')\n",
    "\n",
    "# You can also define functions used  in the state function or in the cost funciton "
   ]
  },
  {
   "cell_type": "markdown",
   "metadata": {},
   "source": [
    "## Define weight parameters used in the stage cost and the terminal cost\n",
    "q: weight array for the state in the stage cost  \n",
    "r: weight array for the control input in the stage cost  \n",
    "q_terminal: weight array for the state in the terminal cost  \n",
    "x_ref: the reference value of the state"
   ]
  },
  {
   "cell_type": "code",
   "execution_count": null,
   "metadata": {},
   "outputs": [],
   "source": [
    "q = symbols(f'q[0:{dimx}]')\n",
    "r = symbols(f'r[0:{dimu+dimc}]')\n",
    "q_terminal = symbols(f'q_terminal[0:{dimx}]')\n",
    "x_ref = symbols(f'x_ref[0:{dimx}]')"
   ]
  },
  {
   "cell_type": "markdown",
   "metadata": {},
   "source": [
    "## Define the state function, constraints, stage cost, terminal cost\n",
    "fxu: state equation  \n",
    "Cxu: constraisnts  \n",
    "L: stage cost  \n",
    "phi: terminal cost  \n",
    "Note: array indices start with 0"
   ]
  },
  {
   "cell_type": "code",
   "execution_count": null,
   "metadata": {},
   "outputs": [],
   "source": [
    "# Define the state equation\n",
    "fxu = [x[2], \n",
    "        x[3],\n",
    "        -(sin(x[0]+x[1])*d2*g*m2+g*(d1*m1+l1*m2)*sin(x[0])-2*d2*(x[2]+(1/2)*x[3])*l1*x[3]*m2*sin(x[1])-u[0])/(2*d2*m2*l1*cos(x[1])+d1**2*m1+d2**2*m2+l1**2*m2+J1+J2), \n",
    "        ((1/2)*g*d2*l1*m2*(d1*m1+l1*m2)*sin(x[0]-x[1])-(1/2)*d2**2*g*l1*m2**2*sin(x[0]+2*x[1])-(d1**2*m1-(1/2)*d1*l1*m1+(1/2)*l1**2*m2+J1)*m2*g*d2*sin(x[0]+x[1])-l1**2*m2**2*d2**2*(x[2]**2+x[2]*x[3]+(1/2)*x[3]**2)*sin(2*x[1])-l1*m2*d2*(((x[2]+x[3])**2*d2**2+x[2]**2*l1**2)*m2+(d1**2*m1+J1+J2)*x[2]**2+2*J2*x[2]*x[3]+J2*x[3]**2)*sin(x[1])+g*((1/2)*d2**2*l1*m2**2+(d1*d2**2*m1+J2*l1)*m2+J2*d1*m1)*sin(x[0])+2*l1*m2*(u[1]-(1/2)*u[0])*d2*cos(x[1])+((1/2)*(2*u[1]-2*u[0])*d2**2+l1**2*u[1])*m2+(u[1]-u[0])*J2+u[1]*(d1**2*m1+J1))/((2*d2*m2*l1*cos(x[1])+d1**2*m1+d2**2*m2+l1**2*m2+J1+J2)*(d2**2*m2+J2))]\n",
    "\n",
    "# Define the constraints (if dimc > 0)\n",
    "Cxu = []\n",
    "\n",
    "# Define the stage cost\n",
    "L = sum(q[i]*(x[i] - x_ref[i])**2 for i in range(dimx))/2 + sum(r[i] * u[i]**2 for i in range(dimu))/2 \n",
    "\n",
    "# Define the terminal cost\n",
    "phi = sum(q_terminal[i]*(x[i] - x_ref[i])**2 for i in range(dimx))/2"
   ]
  },
  {
   "cell_type": "markdown",
   "metadata": {},
   "source": [
    "## Generate  optimality conditions\n",
    "hx: partial derivartive of the hamiltonian with respect to x  \n",
    "hu: partial derivartive of the hamiltonian with respect to u"
   ]
  },
  {
   "cell_type": "code",
   "execution_count": null,
   "metadata": {},
   "outputs": [],
   "source": [
    "if(dimc > 0):\n",
    "    hamiltonian = L + symfunc.dotProduct(lmd, fxu) + sum(u[dimu+i] * Cxu[i] for i in range(dimc))\n",
    "else:\n",
    "    hamiltonian = L + symfunc.dotProduct(lmd, fxu) \n",
    "\n",
    "phix = symfunc.diffScalarFunc(phi, x)\n",
    "hx = symfunc.diffScalarFunc(hamiltonian, x)\n",
    "hu = symfunc.diffScalarFunc(hamiltonian, u)"
   ]
  },
  {
   "cell_type": "markdown",
   "metadata": {},
   "source": [
    "## Symplify phix, hx, and hu\n",
    "Note: if hx and hu is too complicated, it takes too much time to simplify them"
   ]
  },
  {
   "cell_type": "code",
   "execution_count": null,
   "metadata": {},
   "outputs": [],
   "source": [
    "phix = simplify(phix)\n",
    "hx = simplify(hx)\n",
    "hu = simplify(hu)"
   ]
  },
  {
   "cell_type": "markdown",
   "metadata": {},
   "source": [
    "## Set Parameters\n",
    "set all parameters used in the state equation and the cost function"
   ]
  },
  {
   "cell_type": "code",
   "execution_count": null,
   "metadata": {},
   "outputs": [],
   "source": [
    "# scalar parameters\n",
    "scalar_params = [[m1, 0.2], [m2, 0.7], [l1, 0.3], [l2, 0.3], [d1, 0.15], [d2, 0.257], [J1, 0.006], [J2, 0.051], [g, 9.80665]]\n",
    "\n",
    "# array parameters\n",
    "array_params = [['q', dimx, '{1, 1, 0.1, 0.1}'], ['r', dimu, '{0.1,0.1}'], ['q_terminal', dimx, '{1, 1, 0.1, 0.1}'], ['x_ref', dimx, '{M_PI, 0, 0, 0}']]"
   ]
  },
  {
   "cell_type": "markdown",
   "metadata": {},
   "source": [
    "## Generate C++ Codes\n",
    "generate nmpc_model.hpp and nmpc_model.cpp"
   ]
  },
  {
   "cell_type": "code",
   "execution_count": null,
   "metadata": {},
   "outputs": [],
   "source": [
    "gencpp.generateCpp(dimx, dimu, dimc, fxu, Cxu, phix, hx, hu)\n",
    "gencpp.generateHpp(dimx, dimu, dimc, scalar_params, array_params)"
   ]
  }
 ],
 "metadata": {
  "kernelspec": {
   "display_name": "Python 3",
   "language": "python",
   "name": "python3"
  },
  "language_info": {
   "codemirror_mode": {
    "name": "ipython",
    "version": 3
   },
   "file_extension": ".py",
   "mimetype": "text/x-python",
   "name": "python",
   "nbconvert_exporter": "python",
   "pygments_lexer": "ipython3",
   "version": "3.7.1"
  }
 },
 "nbformat": 4,
 "nbformat_minor": 2
}
